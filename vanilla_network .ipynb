{
 "cells": [
  {
   "cell_type": "code",
   "execution_count": 46,
   "metadata": {},
   "outputs": [
    {
     "data": {
      "image/png": "[encoded data removed]",
      "text/plain": [
       "<Figure size 432x288 with 1 Axes>"
      ]
     },
     "metadata": {
      "needs_background": "light"
     },
     "output_type": "display_data"
    },
    {
     "data": {
      "image/png": "[encoded data removed]",
      "text/plain": [
       "<Figure size 432x288 with 1 Axes>"
      ]
     },
     "metadata": {
      "needs_background": "light"
     },
     "output_type": "display_data"
    }
   ],
   "source": [
    "import numpy as np\n",
    "import numpy.random as npr\n",
    "import sys\n",
    "from timeit import default_timer as dt\n",
    "from math import e\n",
    "import matplotlib.pyplot as plt\n",
    "\n",
    "\n",
    "def activate(x,W,b):\n",
    "    '''Defines our activation\n",
    "       function based on the \n",
    "       sigmoid activation.\n",
    "       Takes in the previous neurons\n",
    "       connected outputs x / our \n",
    "       weights W / our bias vector\n",
    "       b'''\n",
    "    return(1/(1+np.exp(-(np.dot(W,x)+b)))) #entire exponent is negative is key\n",
    "\n",
    "def cost(W2,W3,W4,b2,b3,b4,x1,x2,y):\n",
    "    '''Takes in our weight matrices\n",
    "       and bias vectors and computes\n",
    "       the cost function as defined \n",
    "       in the literature as our final\n",
    "       neurons values, a4 below,\n",
    "       in respect to the true output\n",
    "       squared\n",
    "       x1 - data\n",
    "       x2 - true labels\n",
    "       y - predicted points\n",
    "       Cost is run through Niter #\n",
    "       of times \n",
    "       \n",
    "    '''\n",
    "    costvector = np.zeros((10, 1))\n",
    "    x = np.zeros((2,  1))\n",
    "    for i in np.arange(costvector.shape[0]):\n",
    "        x[0,0], x[1,0] = x1[i], x2[i]\n",
    "        a2 = activate(x,  W2, b2)\n",
    "        a3 = activate(a2, W3, b3)\n",
    "        a4 = activate(a3, W4, b4)\n",
    "        costvector[i] = np.linalg.norm(a4.ravel()-y[:,i], 2)\n",
    "\n",
    "    return np.linalg.norm(costvector, 2)**2\n",
    "\n",
    "def inference(W2, W3, W4, b2, b3, b4, x_vec):\n",
    "    '''Takes in adjusted weights and \n",
    "       biases from cost function that\n",
    "       have run through our network and\n",
    "       return an output layer of \n",
    "       a^[L] = a^4 as the predicted\n",
    "       measure\n",
    "       Takes in processed weights\n",
    "       and biases and 'activates'\n",
    "       through the network using\n",
    "       input xvector data points\n",
    "       and produces a^Lth neuron \n",
    "       for our prediction\n",
    "    '''\n",
    "    a2 = activate(xvec, W2, b2)\n",
    "    a3 = activate(a2,   W3, b3)\n",
    "    a4 = activate(a3,   W4, b4)\n",
    "\n",
    "    return a4\n",
    "\n",
    "\n",
    "x1 = np.array([0.1, 0.3, 0.1, 0.6, 0.4, 0.6, 0.5, 0.9, 0.4, 0.7]) #data\n",
    "x2 = np.array([0.1, 0.4, 0.5, 0.9, 0.2, 0.3, 0.6, 0.2, 0.4, 0.6]) \n",
    "\n",
    "y           = np.zeros((2, 10)) #labels (fires or does not fire) \n",
    "y[0:1, 0:5] = np.ones((1,  5))\n",
    "y[0:1, 5: ] = np.zeros((1, 5))\n",
    "y[0:1, 5: ] = np.zeros((1, 5))\n",
    "y[1: , 5: ] = np.ones((1,  5))\n",
    "\n",
    "#Normal randomization used to initialize weight matrices and biases\n",
    "W2 =  npr.uniform(size = (2,2)) #where 1st arg is the current layer size, 2nd is previous arg size\n",
    "W3 =  npr.uniform(size = (3,2)) \n",
    "W4 =  npr.uniform(size = (2,3))\n",
    "\n",
    "b2 = npr.uniform(size = (2,1))\n",
    "b3 = npr.uniform(size = (3,1))\n",
    "b4 = npr.uniform(size = (2,1))\n",
    "\n",
    "eta = .45                                # our learning rate in paper is .05, tried .4 to improve\n",
    "                                        # our cost \n",
    "Niter = 100000                          #number of SG iterations\n",
    "\n",
    "savecost = np.zeros((Niter,1))           #save the value of our cost function\n",
    "\n",
    "xvec = np.zeros((2,1))\n",
    "yvec = np.zeros((2,1))\n",
    "\n",
    "\n",
    "for counter in range(Niter):\n",
    "    k = npr.randint(10)                     #choose a training node\n",
    "    xvec[0,0], xvec[1,0] = x1[k], x2[k]     #populate our input vectors\n",
    "    yvec[:,0] = y[:, k]                     #define our randomly selected node for loss purposes\n",
    "    \n",
    "    #forward pass algorithm below\n",
    "    a2 = activate(xvec,W2,b2)               #first neuron has input vector of data \n",
    "    a3 = activate(a2,W3,b3)                 #second neuron uses a^1 as input data\n",
    "    a4 = activate(a3,W4,b4)\n",
    "    \n",
    "     #backward pass now\n",
    "    \n",
    "    delta4 = a4*(1 - a4)*(a4-yvec)            #delta, our loss term, calculated from final neuron\n",
    "                                              #along with our randomly chosen node and correct label value\n",
    "    delta3 = a3*(1 - a3)* np.dot(W4.T,delta4) #these are defined such that they abide by\n",
    "    delta2 = a2*(1 - a2)* np.dot(W3.T,delta3) #the loss partial derivate rules prove in section 5\n",
    "     #gradient step\n",
    "    W2 -= eta*delta2*xvec.T             #update our Weights and biases using loss function, or delta\n",
    "    W3 -= eta*delta3*a2.T               #weights and biases calculated and then entered into cost function to verify decay\n",
    "    W4 -= eta*delta4*a3.T\n",
    "    b2 -= eta*delta2\n",
    "    b3 -= eta*delta3\n",
    "    b4 -= eta*delta4\n",
    "    \n",
    "    savecost[counter] = cost(W2,W3,W4,b2,b3,b4,x1,x2,y)  #store our cost to observe\n",
    "    \n",
    "#We are predicting a 'fire' or 'not fire' to predict an x or O on on the map given an\n",
    "#ordered pair\n",
    "\n",
    "\n",
    "plt.figure()\n",
    "plt.plot(savecost)\n",
    "plt.xlabel('Gradient Steps')\n",
    "plt.ylabel('Cost')\n",
    "plt.title('Cost Function')\n",
    "plt.show\n",
    "\n",
    "X, Y = np.meshgrid(np.linspace(0, 1, 200), np.linspace(0, 1, 200))\n",
    "\n",
    "X1 = np.array(X.ravel())\n",
    "X2 = np.array(Y.ravel())\n",
    "\n",
    "XTest  = np.stack((X1, X2), axis = 1)\n",
    "empty  = np.zeros(200*200)\n",
    "\n",
    "\n",
    "for i in np.arange(XTest.shape[0]):\n",
    "\n",
    "    xvec[0,0], xvec[1,0] = XTest[i, 0], XTest[i, 1]\n",
    "\n",
    "\n",
    "    YPredictions = inference(W2, W3, W4, b2, b3, b4, xvec)\n",
    "    YPredictions = np.array(YPredictions[0] >= YPredictions[1])\n",
    "\n",
    "\n",
    "    if YPredictions[0] == True:\n",
    "        empty[i] = 1\n",
    "\n",
    "\n",
    "Pred = empty.reshape((200, 200))\n",
    "plt.figure()\n",
    "plt.title('Visualization of Output')\n",
    "plt.contourf(X,Y,Pred,colors=['#808080', '#A0A0A0', '#C0C0C0'], extend='both')\n",
    "\n",
    "plt.scatter(x1[0:5], x2[0:5], marker='^', lw=5)\n",
    "plt.scatter(x1[5:],  x2[5:], marker='o', lw=5)\n",
    "plt.show()\n"
   ]
  },
  {
   "cell_type": "code",
   "execution_count": 38,
   "metadata": {},
   "outputs": [],
   "source": [
    "import numpy as np\n",
    "import numpy.random as npr\n",
    "import sys\n",
    "from timeit import default_timer as dt\n",
    "from math import e\n",
    "import matplotlib.pyplot as plt\n",
    "\n",
    "\n",
    "def activate(x,W,b):\n",
    "    '''Defines our activation\n",
    "       function based on the \n",
    "       sigmoid activation.\n",
    "       Takes in the previous neurons\n",
    "       connected outputs x / our \n",
    "       weights W / our bias vector\n",
    "       b'''\n",
    "    return(1/(1+np.exp(-(np.dot(W,x)+b)))) #entire exponent is negative is key"
   ]
  },
  {
   "cell_type": "markdown",
   "metadata": {},
   "source": [
    "(1) $\\hspace{5mm}$ Here we define the backbone of our neural network, which is the activation function. Here we utilize the sigmoid function, or $$\\sigma(x) = \\frac{1}{1+e^{-x}}$$ which represents a smoothed step function of sorts. Passing through weight matrices, $W$, and bias vectors, $b$, which hold the values to shift and stretch each neuron as it learns through each gradient iteration ultimately enables the firing of proper neurons to accurately make inferences on a desired data set."
   ]
  },
  {
   "cell_type": "code",
   "execution_count": 39,
   "metadata": {},
   "outputs": [],
   "source": [
    "def cost(W2,W3,W4,b2,b3,b4,x1,x2,y):\n",
    "    '''Takes in our weight matrices\n",
    "       and bias vectors and computes\n",
    "       the cost function as defined \n",
    "       in the literature as our final\n",
    "       neurons values, a4 below,\n",
    "       in respect to the true output\n",
    "       squared\n",
    "       x1 - data\n",
    "       x2 - true labels\n",
    "       y - predicted points\n",
    "       Cost is run through Niter #\n",
    "       of times \n",
    "       \n",
    "    '''\n",
    "    costvector = np.zeros((10, 1))\n",
    "    x = np.zeros((2,  1))\n",
    "    for i in np.arange(costvector.shape[0]):\n",
    "        x[0,0], x[1,0] = x1[i], x2[i]\n",
    "        a2 = activate(x,  W2, b2)\n",
    "        a3 = activate(a2, W3, b3)\n",
    "        a4 = activate(a3, W4, b4)\n",
    "        costvector[i] = np.linalg.norm(a4.ravel()-y[:,i], 2)\n",
    "\n",
    "    return np.linalg.norm(costvector, 2)**2"
   ]
  },
  {
   "cell_type": "markdown",
   "metadata": {},
   "source": [
    "(2) $\\hspace{5mm}$ Here we see the installment of the cost function, which is used later in the derivation of our $\\delta$ functions for use in forward and backward propogation for the means of updating our weight and bias matrices used to shift and stretch our activation function. For now, our cost function is modeled after the equation $$Cost = \\frac{1}{N}\\sum_{i=1}^{N}\\frac{1}{2}||y(x^{{i}}) - a^{[L]}(x^{{i}})||_{2}^{2}$$\n",
    "\n",
    "where $a^{l}$ runs from $l=2,3,...L$ and represents a neron at layer $l$ for $L$ being our final neuron. $a^{l}$ can be seen as the function describing the output, or the firing or not firing, of neuron $l$ as described by $a^{l} = \\sigma(W^{l}a^{l-1}+b^{l}) \\in \\mathbb{R}^{n_{l}}$ based on the output of the previous neuron and the current weights and biases. Once run through the entire gradient step of the network, the loss is calculated from the activation pattern of our last neuron layer to be compared against our actual values int eh stored $y$ vector. "
   ]
  },
  {
   "cell_type": "code",
   "execution_count": 40,
   "metadata": {},
   "outputs": [],
   "source": [
    "def inference(W2, W3, W4, b2, b3, b4, x_vec):\n",
    "    '''Takes in adjusted weights and \n",
    "       biases from cost function that\n",
    "       have run through our network and\n",
    "       return an output layer of \n",
    "       a^[L] = a^4 as the predicted\n",
    "       measure\n",
    "       Takes in processed weights\n",
    "       and biases and 'activates'\n",
    "       through the network using\n",
    "       input xvector data points\n",
    "       and produces a^Lth neuron \n",
    "       for our prediction\n",
    "    '''\n",
    "    a2 = activate(xvec, W2, b2)\n",
    "    a3 = activate(a2,   W3, b3)\n",
    "    a4 = activate(a3,   W4, b4)\n",
    "\n",
    "    return a4"
   ]
  },
  {
   "cell_type": "markdown",
   "metadata": {},
   "source": [
    "(3) $\\hspace{5mm}$ Here is a simple inference step once our weights and biases are properly trained according to our desired step count and learning rate. This takes in our weights and biases and our x_vec we wish to make predictions on and run them through our activation neurons to determine their grouping on our 2-D plane. "
   ]
  },
  {
   "cell_type": "code",
   "execution_count": 41,
   "metadata": {},
   "outputs": [],
   "source": [
    "x1 = np.array([0.1, 0.3, 0.1, 0.6, 0.4, 0.6, 0.5, 0.9, 0.4, 0.7]) #data\n",
    "x2 = np.array([0.1, 0.4, 0.5, 0.9, 0.2, 0.3, 0.6, 0.2, 0.4, 0.6]) \n",
    "\n",
    "y           = np.zeros((2, 10)) #labels (fires or does not fire) \n",
    "y[0:1, 0:5] = np.ones((1,  5))\n",
    "y[0:1, 5: ] = np.zeros((1, 5))\n",
    "y[0:1, 5: ] = np.zeros((1, 5))\n",
    "y[1: , 5: ] = np.ones((1,  5))\n",
    "\n",
    "#Normal randomization used to initialize weight matrices and biases\n",
    "W2 =  npr.uniform(size = (2,2)) #where 1st arg is the current layer size, 2nd is previous arg size\n",
    "W3 =  npr.uniform(size = (3,2)) \n",
    "W4 =  npr.uniform(size = (2,3))\n",
    "\n",
    "b2 = npr.uniform(size = (2,1))\n",
    "b3 = npr.uniform(size = (3,1))\n",
    "b4 = npr.uniform(size = (2,1))"
   ]
  },
  {
   "cell_type": "markdown",
   "metadata": {},
   "source": [
    "(4) $\\hspace{5mm}$ We have above an initialization of our data points on our 2-D plane through the $x1$ and $x2$ arrays. From there, the data labels are constructed in our $y$ arrays as either x's or o's as represented by either a 1 or a 0. The standard practice of initializing our weights and biases is done through sampling from a uniform distribution. This gives some sort of starting value for our network to at least begin conducting gradient losses at the beginning of training. "
   ]
  },
  {
   "cell_type": "code",
   "execution_count": 42,
   "metadata": {},
   "outputs": [],
   "source": [
    "eta = .4                                # our learning rate in paper is .05, tried .4 to improve\n",
    "                                        # our cost \n",
    "Niter = 100000                          #number of SG iterations\n",
    "\n",
    "savecost = np.zeros((Niter,1))           #save the value of our cost function\n",
    "\n",
    "xvec = np.zeros((2,1))\n",
    "yvec = np.zeros((2,1))"
   ]
  },
  {
   "cell_type": "markdown",
   "metadata": {},
   "source": [
    "(5) $\\hspace{5mm}$ The most important mathematical topic in this block is the $\\eta$ variable, which represents our learning rate and allows us to go into the deeper mathematics of stochastic gradient descent and its use in our network. $\\eta$ comes into play with updating our cost function given our vector $p$, which is defined as the general vector of our weights, $W$, and our biases, $b$. As background, our cost function as we perturb our $p$ values is defined as $$Cost(p + \\Delta p) \\approx Cost(p) + \\sum_{r=1}^{s}\\frac{\\partial Cost(p)}{\\partial p_{r}}\\Delta p_{r}$$ in respect to our $r^{th}$ parameter. Since we wish to update our weights and biases in the direction of negative of our cost value evaluated at $p$, we then get the update of $$p \\rightarrow p - \\eta \\nabla Cost(p)$$ where $$(\\nabla Cost(p))_{r} = \\frac{\\partial Cost(p)}{\\partial p_{r}}$$ at our $r^{th}$ parameter yet again. Thus, our $\\eta$ variable is key in possibly erasing the issue of falling into a trough with our loss function as seen by a stagnant cost function at a relatively high value. "
   ]
  },
  {
   "cell_type": "code",
   "execution_count": 43,
   "metadata": {},
   "outputs": [],
   "source": [
    "for counter in range(Niter):\n",
    "    k = npr.randint(10)                     #choose a training node\n",
    "    xvec[0,0], xvec[1,0] = x1[k], x2[k]     #populate our input vectors\n",
    "    yvec[:,0] = y[:, k]                     #define our randomly selected node for loss purposes\n",
    "    "
   ]
  },
  {
   "cell_type": "markdown",
   "metadata": {},
   "source": [
    "(6) $\\hspace{5mm}$ Here, we begin our loop at our prescribed number of gradient steps, with the most important aspect of this block being our $k$ variable. This represents a cheaper alternative to the mean of the individual gradients over all our training points by instead randomly choosing a training point from our available nodes of our network. This is seen by our $yvec$, which is used later on in our backpropigation, as being populated with our randomly chosen single node for the purpose of calculating our cost function. "
   ]
  },
  {
   "cell_type": "code",
   "execution_count": 45,
   "metadata": {},
   "outputs": [],
   "source": [
    "#forward pass algorithm below\n",
    "a2 = activate(xvec,W2,b2)               #first neuron has input vector of data \n",
    "a3 = activate(a2,W3,b3)                 #second neuron uses a^1 as input data\n",
    "a4 = activate(a3,W4,b4)"
   ]
  },
  {
   "cell_type": "markdown",
   "metadata": {},
   "source": [
    "(7) $\\hspace{5mm}$ Here is the beginning of the training of our network utilizing much of the initialization of our weights, biases, and training data described in prior blocks. With notation lifted from the paper, $[a2,a3,a4]$ represent the neurons of our neural network, with our first neuron taking in our $xvec$ of training data as its input vector. The sigmoid activation, as outlined in our first block, is used here to take in our weights an biases and produce a value along the shifted curve. "
   ]
  },
  {
   "cell_type": "code",
   "execution_count": null,
   "metadata": {},
   "outputs": [],
   "source": [
    " #backward pass now\n",
    "    \n",
    "    delta4 = a4*(1 - a4)*(a4-yvec)            #delta, our loss term, calculated from final neuron\n",
    "                                              #along with our randomly chosen node and correct label value\n",
    "    delta3 = a3*(1 - a3)* np.dot(W4.T,delta4) #these are defined such that they abide by\n",
    "    delta2 = a2*(1 - a2)* np.dot(W3.T,delta3) #the loss partial derivate rules prove in section 5\n",
    "    "
   ]
  },
  {
   "cell_type": "markdown",
   "metadata": {},
   "source": [
    "(8) $\\hspace{5mm}$ This is where the bulk of the mathematics and derivations come into play for our network and where the gradient vector with our cost function and weighted inputs becomes used define delta values above, or $\\delta$ error values. \n",
    "\n",
    "Let $z^{[l]} = W^{[l]}a^{l-1]} + b^{[l]} \\in R^{n_{l}}$ is the input for our $l^{th}$ neuron, and we can represent our subsequent neuron as $a^{[l]} = \\sigma(z^{[l]})$ for $l = 2,3,...L$. Let us also represent our cost here as $C = \\frac{1}{2}||y - a^[L]||_{2}^{2}$ for our fixed, randomly chosen, training point. Our error expression at our $j^{th}$ neuron an at our $l^{th}$ layer is to be defined as $$\\delta_{j}^{[l]} = \\frac{\\partial C}{\\partial z_{j}^{[l]}} \\textrm{ for } 1 \\leq j \\leq n_{l} \\textrm{ and } 2 \\leq l \\leq L$$ \n",
    "\n",
    "Where $L$ again is the last layer of our network. This error term is key in measuring the sensitivity of our cost function to the weighted input for neuron $j$ at layer $l$. \n",
    "\n",
    "We then yield the following expressions to be used in our backwards propogation step in the block above:\n",
    "$\\begin{align*}\n",
    "& (1.0)\\hspace{5mm} \\delta^{[L]} = \\sigma^{'}(z^{[L]}) \\circ (a^{L} - y)\\\\\n",
    "& (1.1)\\hspace{5mm} \\delta^{[l]} = \\sigma^{'}(z^{[l]}) \\circ (W^{[l+1]})^{T} \\delta^{[l+1]}\\\\\n",
    "& (1.2)\\hspace{5mm} \\frac{\\partial C}{\\partial b_{j}^{[l]}} = \\delta_{j}^{[l]}\\\\\n",
    "& (1.3)\\hspace{5mm} \\frac{\\partial C}{\\partial w_{jk}^{[l]}} = \\delta_{j}^{[l]}a_{k}^{[l-1]}\n",
    "\\end{align*}$\n",
    "\n",
    "Where $\\circ$ is the hadamard product between two vecotrs, or the componentwise product of two vectors. \n",
    "\n",
    "These expressions are a direct results of derivations using the chain rule and can easily be proven and are shown in section 5 of $\\textit{Deep Learning for Applied Mathematicians}$\n",
    "\n",
    "In our block above, delta4 is the $L^{th}$ error function as shown in (1.0). \n",
    "\n",
    "delta3 and delta2 as we move back up our networks layers are shown through equation (1.1)."
   ]
  },
  {
   "cell_type": "code",
   "execution_count": null,
   "metadata": {},
   "outputs": [],
   "source": [
    " #gradient step\n",
    "    W2 -= eta*delta2*xvec.T             #update our Weights and biases using loss function, or delta\n",
    "    W3 -= eta*delta3*a2.T               #weights and biases calculated and then entered into cost function to verify decay\n",
    "    W4 -= eta*delta4*a3.T\n",
    "    b2 -= eta*delta2\n",
    "    b3 -= eta*delta3\n",
    "    b4 -= eta*delta4\n",
    "    \n",
    "    savecost[counter] = cost(W2,W3,W4,b2,b3,b4,x1,x2,y)  #store our cost to observe"
   ]
  },
  {
   "cell_type": "markdown",
   "metadata": {},
   "source": [
    "(9) $\\hspace{5mm}$ In our last block, we go back through our weights and biases and update them in the $-\\nabla Cost(p)$ direction with the formula $$(1.4) \\hspace{5mm} p \\rightarrow p - \\eta \\nabla Cost(p)$$ as mentioned in block 5. Each weight matrix $W_{n}$ for $n = 2,...,L$  and bias vector $b_{n}$ for $n = 2,...,L$ is updated according to formula (1.4) for each of our prescribed gradient iterations. "
   ]
  }
 ],
 "metadata": {
  "kernelspec": {
   "display_name": "tensorflow-v2.2.0-gpu",
   "language": "python",
   "name": "tensorflow_gpu_2.2.0-py37"
  },
  "language_info": {
   "codemirror_mode": {
    "name": "ipython",
    "version": 3
   },
   "file_extension": ".py",
   "mimetype": "text/x-python",
   "name": "python",
   "nbconvert_exporter": "python",
   "pygments_lexer": "ipython3",
   "version": "3.7.4"
  }
 },
 "nbformat": 4,
 "nbformat_minor": 4
}
